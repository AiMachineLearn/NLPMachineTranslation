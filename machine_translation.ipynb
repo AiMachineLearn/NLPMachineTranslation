{
 "cells": [
  {
   "cell_type": "markdown",
   "metadata": {
    "collapsed": true,
    "deletable": true,
    "editable": true
   },
   "source": [
    "# NLP Machine Translation\n",
    "\n",
    "In this notebook, I've built a recurrent neural network that functions as part of an end-to-end machine translation pipeline. It accepts English text as input and returns the French translation.\n",
    "\n",
    "- **Preprocess**: converted text to sequence of integers.\n",
    "- **Models**: created models which accepts a sequence of integers as input and returns a probability distribution over possible translations\n",
    "- **Prediction**: runs the model on English text and outputs French translation"
   ]
  },
  {
   "cell_type": "code",
   "execution_count": 6,
   "metadata": {
    "collapsed": false,
    "deletable": true,
    "editable": true
   },
   "outputs": [],
   "source": [
    "import collections\n",
    "import os\n",
    "import numpy as np\n",
    "\n",
    "from keras.preprocessing.text import Tokenizer\n",
    "from keras.preprocessing.sequence import pad_sequences\n",
    "from keras.models import Model\n",
    "from keras.layers import GRU, Input, Dense, TimeDistributed, Activation, RepeatVector, Bidirectional\n",
    "from keras.layers.embeddings import Embedding\n",
    "from keras.optimizers import Adam\n",
    "from keras.losses import sparse_categorical_crossentropy"
   ]
  },
  {
   "cell_type": "markdown",
   "metadata": {
    "deletable": true,
    "editable": true
   },
   "source": [
    "### Verify access to the GPU"
   ]
  },
  {
   "cell_type": "code",
   "execution_count": 3,
   "metadata": {
    "collapsed": false,
    "deletable": true,
    "editable": true
   },
   "outputs": [
    {
     "name": "stdout",
     "output_type": "stream",
     "text": [
      "[name: \"/cpu:0\"\n",
      "device_type: \"CPU\"\n",
      "memory_limit: 268435456\n",
      "locality {\n",
      "}\n",
      "incarnation: 14862894950804826142\n",
      ", name: \"/gpu:0\"\n",
      "device_type: \"GPU\"\n",
      "memory_limit: 357236736\n",
      "locality {\n",
      "  bus_id: 1\n",
      "}\n",
      "incarnation: 16653488549066632062\n",
      "physical_device_desc: \"device: 0, name: Tesla K80, pci bus id: 0000:00:04.0\"\n",
      "]\n"
     ]
    }
   ],
   "source": [
    "from tensorflow.python.client import device_lib\n",
    "print(device_lib.list_local_devices())"
   ]
  },
  {
   "cell_type": "markdown",
   "metadata": {
    "deletable": true,
    "editable": true
   },
   "source": [
    "### Load Data\n",
    "The data is located in `data/small_vocab_en` and `data/small_vocab_fr`. The `small_vocab_en` file contains English sentences with their French translations in the `small_vocab_fr` file"
   ]
  },
  {
   "cell_type": "code",
   "execution_count": 3,
   "metadata": {
    "collapsed": true,
    "deletable": true,
    "editable": true
   },
   "outputs": [],
   "source": [
    "def load_data(path):\n",
    "    \"\"\"\n",
    "    Load dataset\n",
    "    \"\"\"\n",
    "    input_file = os.path.join(path)\n",
    "    with open(input_file, \"r\") as f:\n",
    "        data = f.read()\n",
    "\n",
    "    return data.split('\\n')"
   ]
  },
  {
   "cell_type": "code",
   "execution_count": 4,
   "metadata": {
    "collapsed": false,
    "deletable": true,
    "editable": true
   },
   "outputs": [
    {
     "name": "stdout",
     "output_type": "stream",
     "text": [
      "Dataset Loaded\n"
     ]
    }
   ],
   "source": [
    "# Load English data\n",
    "english_sentences = load_data('data/small_vocab_en')\n",
    "# Load French data\n",
    "french_sentences = load_data('data/small_vocab_fr')\n",
    "\n",
    "print('Dataset Loaded')"
   ]
  },
  {
   "cell_type": "markdown",
   "metadata": {
    "deletable": true,
    "editable": true
   },
   "source": [
    "### Files\n",
    "Each line in `small_vocab_en` contains an English sentence with the respective translation in each line of `small_vocab_fr`.  View the first two lines from each file."
   ]
  },
  {
   "cell_type": "code",
   "execution_count": 23,
   "metadata": {
    "collapsed": false,
    "deletable": true,
    "editable": true
   },
   "outputs": [
    {
     "name": "stdout",
     "output_type": "stream",
     "text": [
      "small_vocab_en Line 1:  new jersey is sometimes quiet during autumn , and it is snowy in april .\n",
      "small_vocab_fr Line 1:  new jersey est parfois calme pendant l' automne , et il est neigeux en avril .\n",
      "\n",
      "small_vocab_en Line 2:  the united states is usually chilly during july , and it is usually freezing in november .\n",
      "small_vocab_fr Line 2:  les états-unis est généralement froid en juillet , et il gèle habituellement en novembre .\n",
      "\n"
     ]
    }
   ],
   "source": [
    "for sample_i in range(2):\n",
    "    print('small_vocab_en Line {}:  {}'.format(sample_i + 1, english_sentences[sample_i]))\n",
    "    print('small_vocab_fr Line {}:  {}'.format(sample_i + 1, french_sentences[sample_i]))\n",
    "    print()"
   ]
  },
  {
   "cell_type": "markdown",
   "metadata": {
    "deletable": true,
    "editable": true
   },
   "source": [
    "The sentences have been preprocessed already.  The puncuations have been delimited using spaces. All the text have been converted to lowercase. "
   ]
  },
  {
   "cell_type": "markdown",
   "metadata": {
    "deletable": true,
    "editable": true
   },
   "source": [
    "### Vocabulary\n",
    "The complexity of the problem is determined by the complexity of the vocabulary.  A more complex vocabulary is a more complex problem.  Let's look at the complexity of the dataset we'll be working with."
   ]
  },
  {
   "cell_type": "code",
   "execution_count": 7,
   "metadata": {
    "collapsed": false,
    "deletable": true,
    "editable": true
   },
   "outputs": [
    {
     "name": "stdout",
     "output_type": "stream",
     "text": [
      "1823250 English words.\n",
      "227 unique English words.\n",
      "10 Most common words in the English dataset:\n",
      "[('is', 205858), (',', 140897), ('.', 129039), ('in', 75525), ('it', 75137), ('during', 74933), ('the', 67628), ('but', 63987), ('and', 59850), ('sometimes', 37746)]\n",
      "\n",
      "1961295 French words.\n",
      "355 unique French words.\n",
      "10 Most common words in the French dataset:\n",
      "[('est', 196809), ('.', 135619), (',', 123135), ('en', 105768), ('il', 84079), ('les', 65255), ('mais', 63987), ('et', 59851), ('la', 49861), ('parfois', 37746)]\n"
     ]
    }
   ],
   "source": [
    "english_words_counter = collections.Counter([word for sentence in english_sentences for word in sentence.split()])\n",
    "french_words_counter = collections.Counter([word for sentence in french_sentences for word in sentence.split()])\n",
    "\n",
    "print('{} English words.'.format(len([word for sentence in english_sentences for word in sentence.split()])))\n",
    "print('{} unique English words.'.format(len(english_words_counter)))\n",
    "print('10 Most common words in the English dataset:')\n",
    "print(english_words_counter.most_common(10))\n",
    "print()\n",
    "print('{} French words.'.format(len([word for sentence in french_sentences for word in sentence.split()])))\n",
    "print('{} unique French words.'.format(len(french_words_counter)))\n",
    "print('10 Most common words in the French dataset:')\n",
    "print(french_words_counter.most_common(10))"
   ]
  },
  {
   "cell_type": "markdown",
   "metadata": {
    "deletable": true,
    "editable": true
   },
   "source": [
    "For comparison, _Alice's Adventures in Wonderland_ contains 2,766 unique words of a total of 15,500 words.\n",
    "## Preprocess\n",
    "We need to convert the text into sequences of integers using the following preprocessing methods:\n",
    "1. Tokenize the words into ids\n",
    "2. Add padding to make all the sequences the same length.\n",
    "\n",
    "### Tokenize\n",
    "For a neural network to predict on text data, it first has to be turned into data it can understand. Text data like \"dog\" is a sequence of ASCII character encodings.  Since a neural network is a series of multiplication and addition operations, the input data needs to be number(s).\n",
    "\n",
    "We can turn each character into a number or each word into a number.  These are called character and word ids, respectively.  Character ids are used for character level models that generate text predictions for each character.  A word level model uses word ids that generate text predictions for each word.  Word level models tend to learn better, since they are lower in complexity, so we'll use those.\n",
    "\n",
    "We'll turn each sentence into a sequence of words ids using Keras's [`Tokenizer`](https://keras.io/preprocessing/text/#tokenizer) function. "
   ]
  },
  {
   "cell_type": "code",
   "execution_count": 7,
   "metadata": {
    "collapsed": false,
    "deletable": true,
    "editable": true
   },
   "outputs": [
    {
     "name": "stdout",
     "output_type": "stream",
     "text": [
      "{'the': 1, 'quick': 2, 'a': 3, 'brown': 4, 'fox': 5, 'jumps': 6, 'over': 7, 'lazy': 8, 'dog': 9, 'by': 10, 'jove': 11, 'my': 12, 'study': 13, 'of': 14, 'lexicography': 15, 'won': 16, 'prize': 17, 'this': 18, 'is': 19, 'short': 20, 'sentence': 21}\n",
      "\n",
      "Sequence 1 in x\n",
      "  Input:  The quick brown fox jumps over the lazy dog .\n",
      "  Output: [1, 2, 4, 5, 6, 7, 1, 8, 9]\n",
      "Sequence 2 in x\n",
      "  Input:  By Jove , my quick study of lexicography won a prize .\n",
      "  Output: [10, 11, 12, 2, 13, 14, 15, 16, 3, 17]\n",
      "Sequence 3 in x\n",
      "  Input:  This is a short sentence .\n",
      "  Output: [18, 19, 3, 20, 21]\n"
     ]
    }
   ],
   "source": [
    "def tokenize(x):\n",
    "    \"\"\"\n",
    "    Tokenize x\n",
    "    :param x: List of sentences/strings to be tokenized\n",
    "    :return: Tuple of (tokenized x data, tokenizer used to tokenize x)\n",
    "    \"\"\"\n",
    "    tokenizer = Tokenizer()\n",
    "    tokenizer.fit_on_texts(x)\n",
    "    text_tokenized = tokenizer.texts_to_sequences(x)\n",
    "    \n",
    "    return text_tokenized, tokenizer\n",
    "\n",
    "# Tokenize Example output\n",
    "text_sentences = [\n",
    "    'The quick brown fox jumps over the lazy dog .',\n",
    "    'By Jove , my quick study of lexicography won a prize .',\n",
    "    'This is a short sentence .']\n",
    "text_tokenized, text_tokenizer = tokenize(text_sentences)\n",
    "print(text_tokenizer.word_index)\n",
    "print()\n",
    "for sample_i, (sent, token_sent) in enumerate(zip(text_sentences, text_tokenized)):\n",
    "    print('Sequence {} in x'.format(sample_i + 1))\n",
    "    print('  Input:  {}'.format(sent))\n",
    "    print('  Output: {}'.format(token_sent))"
   ]
  },
  {
   "cell_type": "markdown",
   "metadata": {
    "deletable": true,
    "editable": true
   },
   "source": [
    "### Padding\n",
    "When batching the sequence of word ids together, each sequence needs to be the same length.  Since sentences are dynamic in length, we can add padding to the end of the sequences to make them the same length. We can use Keras's [`pad_sequences`](https://keras.io/preprocessing/sequence/#pad_sequences) function."
   ]
  },
  {
   "cell_type": "code",
   "execution_count": 8,
   "metadata": {
    "collapsed": false,
    "deletable": true,
    "editable": true
   },
   "outputs": [
    {
     "name": "stdout",
     "output_type": "stream",
     "text": [
      "Sequence 1 in x\n",
      "  Input:  [1 2 4 5 6 7 1 8 9]\n",
      "  Output: [1 2 4 5 6 7 1 8 9 0]\n",
      "Sequence 2 in x\n",
      "  Input:  [10 11 12  2 13 14 15 16  3 17]\n",
      "  Output: [10 11 12  2 13 14 15 16  3 17]\n",
      "Sequence 3 in x\n",
      "  Input:  [18 19  3 20 21]\n",
      "  Output: [18 19  3 20 21  0  0  0  0  0]\n"
     ]
    }
   ],
   "source": [
    "def pad(x, length=None):\n",
    "    \"\"\"\n",
    "    Pad x\n",
    "    :param x: List of sequences.\n",
    "    :param length: Length to pad the sequence to.  If None, use length of longest sequence in x.\n",
    "    :return: Padded numpy array of sequences\n",
    "    \"\"\"\n",
    "    return pad_sequences(x, maxlen=length, dtype='int32',\n",
    "                  padding='post', truncating='post', value=0.)\n",
    "\n",
    "# Pad Tokenized output\n",
    "test_pad = pad(text_tokenized)\n",
    "for sample_i, (token_sent, pad_sent) in enumerate(zip(text_tokenized, test_pad)):\n",
    "    print('Sequence {} in x'.format(sample_i + 1))\n",
    "    print('  Input:  {}'.format(np.array(token_sent)))\n",
    "    print('  Output: {}'.format(pad_sent))"
   ]
  },
  {
   "cell_type": "markdown",
   "metadata": {
    "deletable": true,
    "editable": true
   },
   "source": [
    "### Preprocess Pipeline"
   ]
  },
  {
   "cell_type": "code",
   "execution_count": 9,
   "metadata": {
    "collapsed": false,
    "deletable": true,
    "editable": true
   },
   "outputs": [
    {
     "name": "stdout",
     "output_type": "stream",
     "text": [
      "Data Preprocessed\n",
      "Max English sentence length: 15\n",
      "Max French sentence length: 21\n",
      "English vocabulary size: 199\n",
      "French vocabulary size: 344\n",
      "\n",
      "First English sentence:\n",
      "['new jersey is sometimes quiet during autumn , and it is snowy in april .']\n",
      "[17 23  1  8 67  4 39  7  3  1 55  2 44  0  0]\n",
      "\n",
      "First French sentence:\n",
      "[\"new jersey est parfois calme pendant l' automne , et il est neigeux en avril .\"]\n",
      "[ 35  34   1   8  67  37  11  24   6   3   1 112   2  50   0   0   0   0\n",
      "   0   0   0]\n"
     ]
    }
   ],
   "source": [
    "def preprocess(x, y):\n",
    "    \"\"\"\n",
    "    Preprocess x and y\n",
    "    :param x: Feature List of sentences\n",
    "    :param y: Label List of sentences\n",
    "    :return: Tuple of (Preprocessed x, Preprocessed y, x tokenizer, y tokenizer)\n",
    "    \"\"\"\n",
    "    preprocess_x, x_tk = tokenize(x)\n",
    "    preprocess_y, y_tk = tokenize(y)\n",
    "\n",
    "    preprocess_x = pad(preprocess_x)\n",
    "    preprocess_y = pad(preprocess_y)\n",
    "\n",
    "    # Keras's sparse_categorical_crossentropy function requires the labels to be in 3 dimensions\n",
    "    preprocess_y = preprocess_y.reshape(*preprocess_y.shape, 1)\n",
    "\n",
    "    return preprocess_x, preprocess_y, x_tk, y_tk\n",
    "\n",
    "preproc_english_sentences, preproc_french_sentences, english_tokenizer, french_tokenizer =\\\n",
    "    preprocess(english_sentences, french_sentences)\n",
    "    \n",
    "max_english_sequence_length = preproc_english_sentences.shape[1]\n",
    "max_french_sequence_length = preproc_french_sentences.shape[1]\n",
    "english_vocab_size = len(english_tokenizer.word_index)\n",
    "french_vocab_size = len(french_tokenizer.word_index)\n",
    "\n",
    "print('Data Preprocessed')\n",
    "print(\"Max English sentence length:\", max_english_sequence_length)\n",
    "print(\"Max French sentence length:\", max_french_sequence_length)\n",
    "print(\"English vocabulary size:\", english_vocab_size)\n",
    "print(\"French vocabulary size:\", french_vocab_size)\n",
    "print()\n",
    "print('First English sentence:')\n",
    "print(english_sentences[:1])\n",
    "print(preproc_english_sentences[:1].flatten())\n",
    "print()\n",
    "print('First French sentence:')\n",
    "print(french_sentences[:1])\n",
    "print(preproc_french_sentences[:1].flatten())"
   ]
  },
  {
   "cell_type": "markdown",
   "metadata": {
    "deletable": true,
    "editable": true
   },
   "source": [
    "### Split dataset"
   ]
  },
  {
   "cell_type": "code",
   "execution_count": 10,
   "metadata": {
    "collapsed": true,
    "deletable": true,
    "editable": true
   },
   "outputs": [],
   "source": [
    "X = pad(preproc_english_sentences, max_french_sequence_length)\n",
    "y = preproc_french_sentences\n",
    "\n",
    "# Reshaping the input to work with when no Embedding layer\n",
    "X_tmp = X.reshape((-1, preproc_french_sentences.shape[-2], 1))\n",
    "\n",
    "# X_train, X_test, y_train, y_test = train_test_split(X, y, test_size=0.1, random_state=42)"
   ]
  },
  {
   "cell_type": "markdown",
   "metadata": {
    "deletable": true,
    "editable": true
   },
   "source": [
    "## Models\n",
    "In this section, I've experimented with various neural network architectures.\n",
    "- Model 1 is a simple RNN\n",
    "- Model 2 is a RNN with Embedding\n",
    "- Model 3 is a Bidirectional RNN\n",
    "- Model 4 is an optional Encoder-Decoder RNN\n",
    "\n",
    "After experimenting with the four simple architectures, I've constructed a deeper architecture that is designed to outperform all four models.\n",
    "### Ids Back to Text\n",
    "The neural network will be translating the input to words ids, which isn't the final form we want.  We want the French translation.  The function `logits_to_text` will bridge the gab between the logits from the neural network to the French translation.."
   ]
  },
  {
   "cell_type": "code",
   "execution_count": 11,
   "metadata": {
    "collapsed": false,
    "deletable": true,
    "editable": true
   },
   "outputs": [
    {
     "name": "stdout",
     "output_type": "stream",
     "text": [
      "`logits_to_text` function loaded.\n"
     ]
    }
   ],
   "source": [
    "def logits_to_text(logits, tokenizer):\n",
    "    \"\"\"\n",
    "    Turn logits from a neural network into text using the tokenizer\n",
    "    :param logits: Logits from a neural network\n",
    "    :param tokenizer: Keras Tokenizer fit on the labels\n",
    "    :return: String that represents the text of the logits\n",
    "    \"\"\"\n",
    "    index_to_words = {id: word for word, id in tokenizer.word_index.items()}\n",
    "    index_to_words[0] = '<PAD>'\n",
    "\n",
    "    return ' '.join([index_to_words[prediction] for prediction in np.argmax(logits, 1)])\n",
    "\n",
    "print('`logits_to_text` function loaded.')"
   ]
  },
  {
   "cell_type": "markdown",
   "metadata": {
    "deletable": true,
    "editable": true
   },
   "source": [
    "### Model 1: Simple RNN\n",
    "![RNN](images/rnn.png)\n",
    "A basic RNN model is a good baseline for sequence data."
   ]
  },
  {
   "cell_type": "code",
   "execution_count": 12,
   "metadata": {
    "collapsed": true,
    "deletable": true,
    "editable": true
   },
   "outputs": [],
   "source": [
    "from keras.models import Sequential\n",
    "from keras.layers import Dense\n",
    "from keras.layers import SimpleRNN\n",
    "from keras.optimizers import Adam\n",
    "from keras.losses import sparse_categorical_crossentropy"
   ]
  },
  {
   "cell_type": "code",
   "execution_count": 13,
   "metadata": {
    "collapsed": false,
    "deletable": true,
    "editable": true
   },
   "outputs": [
    {
     "name": "stdout",
     "output_type": "stream",
     "text": [
      "Train on 110288 samples, validate on 27573 samples\n",
      "Epoch 1/10\n",
      "110288/110288 [==============================] - 10s 89us/step - loss: 2.1078 - acc: 0.5329 - val_loss: nan - val_acc: 0.5922\n",
      "Epoch 2/10\n",
      "110288/110288 [==============================] - 9s 83us/step - loss: 1.4501 - acc: 0.6082 - val_loss: nan - val_acc: 0.6253\n",
      "Epoch 3/10\n",
      "110288/110288 [==============================] - 9s 83us/step - loss: 1.2939 - acc: 0.6345 - val_loss: nan - val_acc: 0.6472\n",
      "Epoch 4/10\n",
      "110288/110288 [==============================] - 9s 83us/step - loss: 1.2043 - acc: 0.6487 - val_loss: nan - val_acc: 0.6585\n",
      "Epoch 5/10\n",
      "110288/110288 [==============================] - 9s 83us/step - loss: 1.1438 - acc: 0.6600 - val_loss: nan - val_acc: 0.6663\n",
      "Epoch 6/10\n",
      "110288/110288 [==============================] - 9s 83us/step - loss: 1.0979 - acc: 0.6676 - val_loss: nan - val_acc: 0.6745\n",
      "Epoch 7/10\n",
      "110288/110288 [==============================] - 9s 83us/step - loss: 1.0633 - acc: 0.6716 - val_loss: nan - val_acc: 0.6779\n",
      "Epoch 8/10\n",
      "110288/110288 [==============================] - 9s 83us/step - loss: 1.0318 - acc: 0.6766 - val_loss: nan - val_acc: 0.6763\n",
      "Epoch 9/10\n",
      "110288/110288 [==============================] - 9s 83us/step - loss: 1.0081 - acc: 0.6795 - val_loss: nan - val_acc: 0.6831\n",
      "Epoch 10/10\n",
      "110288/110288 [==============================] - 9s 83us/step - loss: 0.9847 - acc: 0.6827 - val_loss: nan - val_acc: 0.6850\n",
      "\n",
      "Input:  new jersey is sometimes quiet during autumn , and it is snowy in april .\n",
      "Label:  new jersey est parfois calme pendant l' automne , et il est neigeux en avril .\n",
      "Prediction:  new jersey est parfois chaud en l' de mai est il est en <PAD> <PAD> <PAD> <PAD> <PAD> <PAD> <PAD> <PAD>\n",
      "\n",
      "Input:  the united states is usually chilly during july , and it is usually freezing in november .\n",
      "Label:  les états-unis est généralement froid en juillet , et il gèle habituellement en novembre .\n",
      "Prediction:  les états unis est généralement froid en mois et il est généralement agréable en en <PAD> <PAD> <PAD> <PAD> <PAD> <PAD>\n",
      "\n",
      "Input:  california is usually quiet during march , and it is usually hot in june .\n",
      "Label:  california est généralement calme en mars , et il est généralement chaud en juin .\n",
      "Prediction:  la est est généralement en en et et il est généralement en en <PAD> <PAD> <PAD> <PAD> <PAD> <PAD> <PAD> <PAD>\n"
     ]
    }
   ],
   "source": [
    "def simple_model(input_shape, output_sequence_length, english_vocab_size, french_vocab_size):\n",
    "    \"\"\"\n",
    "    Build and train a basic RNN on x and y\n",
    "    :param input_shape: Tuple of input shape\n",
    "    :param output_sequence_length: Length of output sequence\n",
    "    :param english_vocab_size: Number of unique English words in the dataset\n",
    "    :param french_vocab_size: Number of unique French words in the dataset\n",
    "    :return: Keras model built, but not trained\n",
    "    \"\"\"\n",
    "    # Build the layers\n",
    "    model = Sequential()\n",
    "    model.add(SimpleRNN(512, input_shape=input_shape[1:], return_sequences=True))\n",
    "    model.add(Dense(french_vocab_size, activation='softmax')) \n",
    "    \n",
    "    learning_rate = 0.001\n",
    "    model.compile(loss=sparse_categorical_crossentropy,\n",
    "                  optimizer=Adam(learning_rate),\n",
    "                  metrics=['accuracy'])\n",
    "    return model\n",
    "\n",
    "# Train the neural network\n",
    "simple_rnn_model = simple_model(X_tmp.shape, max_french_sequence_length, english_vocab_size, french_vocab_size)\n",
    "simple_rnn_model.fit(X_tmp, y, batch_size=1024, epochs=10, validation_split=0.2)\n",
    "\n",
    "# Print prediction(s)\n",
    "for i in range(3):\n",
    "    print()\n",
    "    print('Input: ', english_sentences[i])\n",
    "    print('Label: ', french_sentences[i])\n",
    "    print('Prediction: ', logits_to_text(simple_rnn_model.predict(np.reshape(X_tmp[i], (1,21,1)))[0], french_tokenizer))"
   ]
  },
  {
   "cell_type": "markdown",
   "metadata": {
    "deletable": true,
    "editable": true
   },
   "source": [
    "### Model 2: Simple RNN with Embedding\n",
    "![RNN](images/embedding.png)\n",
    "We've turned the words into ids, but there's a better representation of a word: word embeddings.  An embedding is a vector representation of the word that is close to similar words in n-dimensional space, where the n represents the size of the embedding vectors."
   ]
  },
  {
   "cell_type": "code",
   "execution_count": 14,
   "metadata": {
    "collapsed": true,
    "deletable": true,
    "editable": true
   },
   "outputs": [],
   "source": [
    "from keras.layers import Embedding"
   ]
  },
  {
   "cell_type": "code",
   "execution_count": 15,
   "metadata": {
    "collapsed": false,
    "deletable": true,
    "editable": true
   },
   "outputs": [
    {
     "name": "stdout",
     "output_type": "stream",
     "text": [
      "Train on 110288 samples, validate on 27573 samples\n",
      "Epoch 1/10\n",
      "110288/110288 [==============================] - 10s 94us/step - loss: 2.5552 - acc: 0.5122 - val_loss: nan - val_acc: 0.5811\n",
      "Epoch 2/10\n",
      "110288/110288 [==============================] - 10s 92us/step - loss: 1.5205 - acc: 0.6350 - val_loss: nan - val_acc: 0.6914\n",
      "Epoch 3/10\n",
      "110288/110288 [==============================] - 10s 92us/step - loss: 1.0218 - acc: 0.7383 - val_loss: nan - val_acc: 0.7804\n",
      "Epoch 4/10\n",
      "110288/110288 [==============================] - 10s 92us/step - loss: 0.7257 - acc: 0.8071 - val_loss: nan - val_acc: 0.8337\n",
      "Epoch 5/10\n",
      "110288/110288 [==============================] - 10s 92us/step - loss: 0.5384 - acc: 0.8466 - val_loss: nan - val_acc: 0.8616\n",
      "Epoch 6/10\n",
      "110288/110288 [==============================] - 10s 92us/step - loss: 0.4389 - acc: 0.8692 - val_loss: nan - val_acc: 0.8791\n",
      "Epoch 7/10\n",
      "110288/110288 [==============================] - 10s 92us/step - loss: 0.3810 - acc: 0.8827 - val_loss: nan - val_acc: 0.8898\n",
      "Epoch 8/10\n",
      "110288/110288 [==============================] - 10s 92us/step - loss: 0.3380 - acc: 0.8939 - val_loss: nan - val_acc: 0.8927\n",
      "Epoch 9/10\n",
      "110288/110288 [==============================] - 10s 92us/step - loss: 0.3099 - acc: 0.9008 - val_loss: nan - val_acc: 0.9034\n",
      "Epoch 10/10\n",
      "110288/110288 [==============================] - 10s 92us/step - loss: 0.2878 - acc: 0.9066 - val_loss: nan - val_acc: 0.9073\n",
      "\n",
      "Input:  new jersey is sometimes quiet during autumn , and it is snowy in april .\n",
      "Label:  new jersey est parfois calme pendant l' automne , et il est neigeux en avril .\n",
      "Prediction:  new jersey est parfois calme en l' automne il automne neigeux il en avril <PAD> <PAD> <PAD> <PAD> <PAD> <PAD> <PAD>\n",
      "\n",
      "Input:  the united states is usually chilly during july , and it is usually freezing in november .\n",
      "Label:  les états-unis est généralement froid en juillet , et il gèle habituellement en novembre .\n",
      "Prediction:  les états unis est généralement froid en juillet et il est généralement en septembre <PAD> <PAD> <PAD> <PAD> <PAD> <PAD> <PAD>\n",
      "\n",
      "Input:  california is usually quiet during march , and it is usually hot in june .\n",
      "Label:  california est généralement calme en mars , et il est généralement chaud en juin .\n",
      "Prediction:  californie est généralement calme au mois et il est il chaud en chaud en <PAD> <PAD> <PAD> <PAD> <PAD> <PAD> <PAD>\n"
     ]
    }
   ],
   "source": [
    "def embed_model(input_shape, output_sequence_length, english_vocab_size, french_vocab_size):\n",
    "    \"\"\"\n",
    "    Build and train a RNN model using word embedding on x and y\n",
    "    :param input_shape: Tuple of input shape\n",
    "    :param output_sequence_length: Length of output sequence\n",
    "    :param english_vocab_size: Number of unique English words in the dataset\n",
    "    :param french_vocab_size: Number of unique French words in the dataset\n",
    "    :return: Keras model built, but not trained\n",
    "    \"\"\"\n",
    "    # Build the layers\n",
    "    model = Sequential()\n",
    "    model.add(Embedding(english_vocab_size, 128, input_shape=input_shape[1:]))\n",
    "    model.add(SimpleRNN(512, return_sequences=True))\n",
    "    model.add(Dense(french_vocab_size, activation='softmax')) \n",
    "    \n",
    "    learning_rate = 0.001\n",
    "    model.compile(loss=sparse_categorical_crossentropy,\n",
    "                  optimizer=Adam(learning_rate),\n",
    "                  metrics=['accuracy'])\n",
    "    return model\n",
    "\n",
    "# Train the neural network\n",
    "embed_rnn_model = embed_model(X.shape, max_french_sequence_length, english_vocab_size, french_vocab_size)\n",
    "embed_rnn_model.fit(X, y, batch_size=1024, epochs=10, validation_split=0.2)\n",
    "\n",
    "# Print prediction(s)\n",
    "for i in range(3):\n",
    "    print()\n",
    "    print('Input: ', english_sentences[i])\n",
    "    print('Label: ', french_sentences[i])\n",
    "    print('Prediction: ', logits_to_text(embed_rnn_model.predict(np.reshape(X[i], (1,21)))[0], french_tokenizer))"
   ]
  },
  {
   "cell_type": "markdown",
   "metadata": {
    "deletable": true,
    "editable": true
   },
   "source": [
    "### Model 3: Bidirectional RNNs (IMPLEMENTATION)\n",
    "![RNN](images/bidirectional.png)\n",
    "One restriction of a RNN is that it can't see the future input, only the past.  This is where bidirectional recurrent neural networks come in.  They are able to see the future data."
   ]
  },
  {
   "cell_type": "code",
   "execution_count": 16,
   "metadata": {
    "collapsed": true,
    "deletable": true,
    "editable": true
   },
   "outputs": [],
   "source": [
    "from keras.layers import Bidirectional"
   ]
  },
  {
   "cell_type": "code",
   "execution_count": 17,
   "metadata": {
    "collapsed": false,
    "deletable": true,
    "editable": true
   },
   "outputs": [
    {
     "name": "stdout",
     "output_type": "stream",
     "text": [
      "Train on 110288 samples, validate on 27573 samples\n",
      "Epoch 1/10\n",
      "110288/110288 [==============================] - 16s 142us/step - loss: 1.7719 - acc: 0.5845 - val_loss: nan - val_acc: 0.6298\n",
      "Epoch 2/10\n",
      "110288/110288 [==============================] - 15s 137us/step - loss: 1.2707 - acc: 0.6431 - val_loss: nan - val_acc: 0.6535\n",
      "Epoch 3/10\n",
      "110288/110288 [==============================] - 15s 137us/step - loss: 1.1534 - acc: 0.6657 - val_loss: nan - val_acc: 0.6711\n",
      "Epoch 4/10\n",
      "110288/110288 [==============================] - 15s 137us/step - loss: 1.0744 - acc: 0.6813 - val_loss: nan - val_acc: 0.6884\n",
      "Epoch 5/10\n",
      "110288/110288 [==============================] - 15s 137us/step - loss: 1.0125 - acc: 0.6928 - val_loss: nan - val_acc: 0.6972\n",
      "Epoch 6/10\n",
      "110288/110288 [==============================] - 15s 137us/step - loss: 0.9652 - acc: 0.7005 - val_loss: nan - val_acc: 0.7047\n",
      "Epoch 7/10\n",
      "110288/110288 [==============================] - 15s 137us/step - loss: 0.9276 - acc: 0.7067 - val_loss: nan - val_acc: 0.7070\n",
      "Epoch 8/10\n",
      "110288/110288 [==============================] - 15s 137us/step - loss: 0.9002 - acc: 0.7102 - val_loss: nan - val_acc: 0.7145\n",
      "Epoch 9/10\n",
      "110288/110288 [==============================] - 15s 137us/step - loss: 0.8699 - acc: 0.7155 - val_loss: nan - val_acc: 0.7150\n",
      "Epoch 10/10\n",
      "110288/110288 [==============================] - 15s 137us/step - loss: 0.8463 - acc: 0.7191 - val_loss: nan - val_acc: 0.7212\n",
      "\n",
      "Input:  new jersey is sometimes quiet during autumn , and it is snowy in april .\n",
      "Label:  new jersey est parfois calme pendant l' automne , et il est neigeux en avril .\n",
      "Prediction:  new jersey est parfois calme au mois de il est il est en <PAD> <PAD> <PAD> <PAD> <PAD> <PAD> <PAD> <PAD>\n",
      "\n",
      "Input:  the united states is usually chilly during july , and it is usually freezing in november .\n",
      "Label:  les états-unis est généralement froid en juillet , et il gèle habituellement en novembre .\n",
      "Prediction:  les états unis est généralement froid en juillet et il est généralement agréable en en <PAD> <PAD> <PAD> <PAD> <PAD> <PAD>\n",
      "\n",
      "Input:  california is usually quiet during march , and it is usually hot in june .\n",
      "Label:  california est généralement calme en mars , et il est généralement chaud en juin .\n",
      "Prediction:  californie est est généralement en en et et il est est calme à <PAD> <PAD> <PAD> <PAD> <PAD> <PAD> <PAD> <PAD>\n"
     ]
    }
   ],
   "source": [
    "def bidir_model(input_shape, output_sequence_length, english_vocab_size, french_vocab_size):\n",
    "    \"\"\"\n",
    "    Build and train a bidirectional RNN model on x and y\n",
    "    :param input_shape: Tuple of input shape\n",
    "    :param output_sequence_length: Length of output sequence\n",
    "    :param english_vocab_size: Number of unique English words in the dataset\n",
    "    :param french_vocab_size: Number of unique French words in the dataset\n",
    "    :return: Keras model built, but not trained\n",
    "    \"\"\"\n",
    "    # Build the layers\n",
    "    model = Sequential()\n",
    "    model.add(Bidirectional(SimpleRNN(512, return_sequences=True), input_shape=input_shape[1:]))\n",
    "    model.add(Dense(french_vocab_size, activation='softmax')) \n",
    "    \n",
    "    learning_rate = 0.001\n",
    "    model.compile(loss=sparse_categorical_crossentropy,\n",
    "                  optimizer=Adam(learning_rate),\n",
    "                  metrics=['accuracy'])\n",
    "    return model\n",
    "\n",
    "# Train the neural network\n",
    "bidir_rnn_model = bidir_model(X_tmp.shape, max_french_sequence_length, english_vocab_size, french_vocab_size)\n",
    "bidir_rnn_model.fit(X_tmp, y, batch_size=1024, epochs=10, validation_split=0.2)\n",
    "\n",
    "# Print prediction(s)\n",
    "for i in range(3):\n",
    "    print()\n",
    "    print('Input: ', english_sentences[i])\n",
    "    print('Label: ', french_sentences[i])\n",
    "    print('Prediction: ', logits_to_text(bidir_rnn_model.predict(np.reshape(X_tmp[i], (1,21,1)))[0], french_tokenizer))"
   ]
  },
  {
   "cell_type": "markdown",
   "metadata": {
    "deletable": true,
    "editable": true
   },
   "source": [
    "### Model 4: Encoder-Decoder\n",
    "Time to look at encoder-decoder models.  This model is made up of an encoder and decoder. The encoder creates a matrix representation of the sentence.  The decoder takes this matrix as input and predicts the translation as output."
   ]
  },
  {
   "cell_type": "code",
   "execution_count": 18,
   "metadata": {
    "collapsed": true,
    "deletable": true,
    "editable": true
   },
   "outputs": [],
   "source": [
    "from keras.layers import RepeatVector"
   ]
  },
  {
   "cell_type": "code",
   "execution_count": 20,
   "metadata": {
    "collapsed": false,
    "deletable": true,
    "editable": true
   },
   "outputs": [
    {
     "name": "stdout",
     "output_type": "stream",
     "text": [
      "Train on 110288 samples, validate on 27573 samples\n",
      "Epoch 1/10\n",
      "110288/110288 [==============================] - 16s 148us/step - loss: 2.4932 - acc: 0.4758 - val_loss: nan - val_acc: 0.5559\n",
      "Epoch 2/10\n",
      "110288/110288 [==============================] - 16s 143us/step - loss: 1.5977 - acc: 0.5811 - val_loss: nan - val_acc: 0.6012\n",
      "Epoch 3/10\n",
      "110288/110288 [==============================] - 16s 143us/step - loss: 1.4130 - acc: 0.6096 - val_loss: nan - val_acc: 0.6189\n",
      "Epoch 4/10\n",
      "110288/110288 [==============================] - 16s 143us/step - loss: 1.3319 - acc: 0.6246 - val_loss: nan - val_acc: 0.6323\n",
      "Epoch 5/10\n",
      "110288/110288 [==============================] - 16s 143us/step - loss: 1.2807 - acc: 0.6331 - val_loss: nan - val_acc: 0.6350\n",
      "Epoch 6/10\n",
      "110288/110288 [==============================] - 16s 143us/step - loss: 1.2533 - acc: 0.6371 - val_loss: nan - val_acc: 0.6380\n",
      "Epoch 7/10\n",
      "110288/110288 [==============================] - 16s 143us/step - loss: 1.2385 - acc: 0.6387 - val_loss: nan - val_acc: 0.6394\n",
      "Epoch 8/10\n",
      "110288/110288 [==============================] - 16s 143us/step - loss: 1.2499 - acc: 0.6351 - val_loss: nan - val_acc: 0.6416\n",
      "Epoch 9/10\n",
      "110288/110288 [==============================] - 16s 143us/step - loss: 1.2120 - acc: 0.6421 - val_loss: nan - val_acc: 0.6440\n",
      "Epoch 10/10\n",
      "110288/110288 [==============================] - 16s 143us/step - loss: 1.1896 - acc: 0.6443 - val_loss: nan - val_acc: 0.6478\n",
      "\n",
      "Input:  new jersey is sometimes quiet during autumn , and it is snowy in april .\n",
      "Label:  new jersey est parfois calme pendant l' automne , et il est neigeux en avril .\n",
      "Prediction:  new jersey est parfois agréable en mois et il est il en en <PAD> <PAD> <PAD> <PAD> <PAD> <PAD> <PAD> <PAD>\n",
      "\n",
      "Input:  the united states is usually chilly during july , and it is usually freezing in november .\n",
      "Label:  les états-unis est généralement froid en juillet , et il gèle habituellement en novembre .\n",
      "Prediction:  les états unis est jamais agréable en mois et il est parfois est en en <PAD> <PAD> <PAD> <PAD> <PAD> <PAD>\n",
      "\n",
      "Input:  california is usually quiet during march , and it is usually hot in june .\n",
      "Label:  california est généralement calme en mars , et il est généralement chaud en juin .\n",
      "Prediction:  la est est parfois en en mais il il est est en en <PAD> <PAD> <PAD> <PAD> <PAD> <PAD> <PAD> <PAD>\n"
     ]
    }
   ],
   "source": [
    "def encdec_model(input_shape, output_sequence_length, english_vocab_size, french_vocab_size):\n",
    "    \"\"\"\n",
    "    Build and train an encoder-decoder model on x and y\n",
    "    :param input_shape: Tuple of input shape\n",
    "    :param output_sequence_length: Length of output sequence\n",
    "    :param english_vocab_size: Number of unique English words in the dataset\n",
    "    :param french_vocab_size: Number of unique French words in the dataset\n",
    "    :return: Keras model built, but not trained\n",
    "    \"\"\"\n",
    "    # Build the layers\n",
    "    model = Sequential()\n",
    "    model.add(SimpleRNN(512, return_sequences=False, input_shape=input_shape[1:]))\n",
    "    model.add(RepeatVector(output_sequence_length))\n",
    "    model.add(SimpleRNN(512, return_sequences=True))\n",
    "    model.add(Dense(french_vocab_size, activation='softmax')) \n",
    "    \n",
    "    learning_rate = 0.001\n",
    "    model.compile(loss=sparse_categorical_crossentropy,\n",
    "                  optimizer=Adam(learning_rate),\n",
    "                  metrics=['accuracy'])\n",
    "    return model\n",
    "\n",
    "# Train the neural network\n",
    "encdec_rnn_model = encdec_model(X_tmp.shape, max_french_sequence_length, english_vocab_size, french_vocab_size)\n",
    "encdec_rnn_model.fit(X_tmp, y, batch_size=1024, epochs=10, validation_split=0.2)\n",
    "\n",
    "for i in range(3):\n",
    "    print()\n",
    "    print('Input: ', english_sentences[i])\n",
    "    print('Label: ', french_sentences[i])\n",
    "    print('Prediction: ', logits_to_text(encdec_rnn_model.predict(np.reshape(X_tmp[i], (1,21,1)))[0], french_tokenizer))"
   ]
  },
  {
   "cell_type": "markdown",
   "metadata": {
    "deletable": true,
    "editable": true
   },
   "source": [
    "### Model 5: Custom\n",
    "This model incorporates both embedding and a bidirectional rnn"
   ]
  },
  {
   "cell_type": "code",
   "execution_count": 21,
   "metadata": {
    "collapsed": false,
    "deletable": true,
    "editable": true
   },
   "outputs": [
    {
     "name": "stdout",
     "output_type": "stream",
     "text": [
      "Train on 110288 samples, validate on 27573 samples\n",
      "Epoch 1/20\n",
      "110288/110288 [==============================] - 18s 159us/step - loss: 2.1634 - acc: 0.5310 - val_loss: nan - val_acc: 0.6495\n",
      "Epoch 2/20\n",
      "110288/110288 [==============================] - 17s 155us/step - loss: 1.1072 - acc: 0.7241 - val_loss: nan - val_acc: 0.7823\n",
      "Epoch 3/20\n",
      "110288/110288 [==============================] - 17s 156us/step - loss: 0.6782 - acc: 0.8198 - val_loss: nan - val_acc: 0.8489\n",
      "Epoch 4/20\n",
      "110288/110288 [==============================] - 17s 155us/step - loss: 0.4455 - acc: 0.8743 - val_loss: nan - val_acc: 0.8950\n",
      "Epoch 5/20\n",
      "110288/110288 [==============================] - 17s 155us/step - loss: 0.3211 - acc: 0.9056 - val_loss: nan - val_acc: 0.9152\n",
      "Epoch 6/20\n",
      "110288/110288 [==============================] - 17s 155us/step - loss: 0.2549 - acc: 0.9231 - val_loss: nan - val_acc: 0.9306\n",
      "Epoch 7/20\n",
      "110288/110288 [==============================] - 17s 155us/step - loss: 0.2116 - acc: 0.9356 - val_loss: nan - val_acc: 0.9407\n",
      "Epoch 8/20\n",
      "110288/110288 [==============================] - 17s 155us/step - loss: 0.1771 - acc: 0.9460 - val_loss: nan - val_acc: 0.9479\n",
      "Epoch 9/20\n",
      "110288/110288 [==============================] - 17s 155us/step - loss: 0.1560 - acc: 0.9523 - val_loss: nan - val_acc: 0.9540\n",
      "Epoch 10/20\n",
      "110288/110288 [==============================] - 17s 155us/step - loss: 0.1367 - acc: 0.9585 - val_loss: nan - val_acc: 0.9583\n",
      "Epoch 11/20\n",
      "110288/110288 [==============================] - 17s 155us/step - loss: 0.1214 - acc: 0.9632 - val_loss: nan - val_acc: 0.9620\n",
      "Epoch 12/20\n",
      "110288/110288 [==============================] - 17s 155us/step - loss: 0.1111 - acc: 0.9662 - val_loss: nan - val_acc: 0.9632\n",
      "Epoch 13/20\n",
      "110288/110288 [==============================] - 17s 155us/step - loss: 0.1013 - acc: 0.9691 - val_loss: nan - val_acc: 0.9665\n",
      "Epoch 14/20\n",
      "110288/110288 [==============================] - 17s 155us/step - loss: 0.0938 - acc: 0.9713 - val_loss: nan - val_acc: 0.9687\n",
      "Epoch 15/20\n",
      "110288/110288 [==============================] - 17s 155us/step - loss: 0.0870 - acc: 0.9734 - val_loss: nan - val_acc: 0.9689\n",
      "Epoch 16/20\n",
      "110288/110288 [==============================] - 17s 155us/step - loss: 0.0817 - acc: 0.9750 - val_loss: nan - val_acc: 0.9724\n",
      "Epoch 17/20\n",
      "110288/110288 [==============================] - 17s 156us/step - loss: 0.0760 - acc: 0.9768 - val_loss: nan - val_acc: 0.9734\n",
      "Epoch 18/20\n",
      "110288/110288 [==============================] - 17s 155us/step - loss: 0.0713 - acc: 0.9781 - val_loss: nan - val_acc: 0.9735\n",
      "Epoch 19/20\n",
      "110288/110288 [==============================] - 17s 155us/step - loss: 0.0673 - acc: 0.9795 - val_loss: nan - val_acc: 0.9748\n",
      "Epoch 20/20\n",
      "110288/110288 [==============================] - 17s 155us/step - loss: 0.0627 - acc: 0.9807 - val_loss: nan - val_acc: 0.9761\n",
      "\n",
      "Input:  new jersey is sometimes quiet during autumn , and it is snowy in april .\n",
      "Label:  new jersey est parfois calme pendant l' automne , et il est neigeux en avril .\n",
      "Prediction:  new jersey est parfois calme pendant l' automne et il est neigeux en avril <PAD> <PAD> <PAD> <PAD> <PAD> <PAD> <PAD>\n",
      "\n",
      "Input:  the united states is usually chilly during july , and it is usually freezing in november .\n",
      "Label:  les états-unis est généralement froid en juillet , et il gèle habituellement en novembre .\n",
      "Prediction:  les états unis est généralement froid en juillet et il gèle habituellement en novembre <PAD> <PAD> <PAD> <PAD> <PAD> <PAD> <PAD>\n",
      "\n",
      "Input:  california is usually quiet during march , and it is usually hot in june .\n",
      "Label:  california est généralement calme en mars , et il est généralement chaud en juin .\n",
      "Prediction:  california est généralement calme en mars et il est généralement chaud en juin <PAD> <PAD> <PAD> <PAD> <PAD> <PAD> <PAD> <PAD>\n",
      "\n",
      "Input:  the united states is sometimes mild during june , and it is cold in september .\n",
      "Label:  les états-unis est parfois légère en juin , et il fait froid en septembre .\n",
      "Prediction:  les états unis est parfois légère en juin et il fait froid en septembre <PAD> <PAD> <PAD> <PAD> <PAD> <PAD> <PAD>\n",
      "\n",
      "Input:  your least liked fruit is the grape , but my least liked is the apple .\n",
      "Label:  votre moins aimé fruit est le raisin , mais mon moins aimé est la pomme .\n",
      "Prediction:  votre moins aimé fruit fruits le raisin mais mon moins aimé est la pomme <PAD> <PAD> <PAD> <PAD> <PAD> <PAD> <PAD>\n",
      "\n",
      "Input:  his favorite fruit is the orange , but my favorite is the grape .\n",
      "Label:  son fruit préféré est l'orange , mais mon préféré est le raisin .\n",
      "Prediction:  son fruit préféré est l'orange mais mon préféré est le raisin <PAD> <PAD> <PAD> <PAD> <PAD> <PAD> <PAD> <PAD> <PAD> <PAD>\n",
      "\n",
      "Input:  paris is relaxing during december , but it is usually chilly in july .\n",
      "Label:  paris est relaxant en décembre , mais il est généralement froid en juillet .\n",
      "Prediction:  paris est relaxant en décembre mais il est généralement froid en juillet <PAD> <PAD> <PAD> <PAD> <PAD> <PAD> <PAD> <PAD> <PAD>\n",
      "\n",
      "Input:  new jersey is busy during spring , and it is never hot in march .\n",
      "Label:  new jersey est occupé au printemps , et il est jamais chaude en mars .\n",
      "Prediction:  new jersey est occupé au printemps et il est jamais chaude en mars <PAD> <PAD> <PAD> <PAD> <PAD> <PAD> <PAD> <PAD>\n",
      "\n",
      "Input:  our least liked fruit is the lemon , but my least liked is the grape .\n",
      "Label:  notre fruit est moins aimé le citron , mais mon moins aimé est le raisin .\n",
      "Prediction:  notre fruit est moins aimé le citron mais mon moins aimé est le raisin <PAD> <PAD> <PAD> <PAD> <PAD> <PAD> <PAD>\n",
      "\n",
      "Input:  the united states is sometimes busy during january , and it is sometimes warm in november .\n",
      "Label:  les états-unis est parfois occupé en janvier , et il est parfois chaud en novembre .\n",
      "Prediction:  les états unis est parfois occupé en janvier et il est parfois chaud en novembre <PAD> <PAD> <PAD> <PAD> <PAD> <PAD>\n"
     ]
    }
   ],
   "source": [
    "def model_final(input_shape, output_sequence_length, english_vocab_size, french_vocab_size):\n",
    "    \"\"\"\n",
    "    Build and train a model that incorporates embedding, encoder-decoder, and bidirectional RNN on x and y\n",
    "    :param input_shape: Tuple of input shape\n",
    "    :param output_sequence_length: Length of output sequence\n",
    "    :param english_vocab_size: Number of unique English words in the dataset\n",
    "    :param french_vocab_size: Number of unique French words in the dataset\n",
    "    :return: Keras model built, but not trained\n",
    "    \"\"\"\n",
    "    # Build the layers\n",
    "    model = Sequential()\n",
    "    model.add(Embedding(english_vocab_size, 128, input_shape=input_shape[1:]))\n",
    "    model.add(Bidirectional(SimpleRNN(512, return_sequences=True)))\n",
    "    model.add(Dense(french_vocab_size, activation='softmax')) \n",
    "    \n",
    "    learning_rate = 0.001\n",
    "    model.compile(loss=sparse_categorical_crossentropy,\n",
    "                  optimizer=Adam(learning_rate),\n",
    "                  metrics=['accuracy'])\n",
    "    return model\n",
    "\n",
    "# Train the neural network\n",
    "final_rnn_model = model_final(X.shape, max_french_sequence_length, english_vocab_size, french_vocab_size)\n",
    "final_rnn_model.fit(X, y, batch_size=1024, epochs=20, validation_split=0.2)\n",
    "\n",
    "# Print prediction(s)\n",
    "for i in range(10):\n",
    "    print()\n",
    "    print('Input: ', english_sentences[i])\n",
    "    print('Label: ', french_sentences[i])\n",
    "    print('Prediction: ', logits_to_text(final_rnn_model.predict(np.reshape(X[i], (1,21)))[0], french_tokenizer))"
   ]
  },
  {
   "cell_type": "code",
   "execution_count": null,
   "metadata": {
    "collapsed": true,
    "deletable": true,
    "editable": true
   },
   "outputs": [],
   "source": []
  }
 ],
 "metadata": {
  "anaconda-cloud": {},
  "kernelspec": {
   "display_name": "Python [default]",
   "language": "python",
   "name": "python3"
  },
  "language_info": {
   "codemirror_mode": {
    "name": "ipython",
    "version": 3
   },
   "file_extension": ".py",
   "mimetype": "text/x-python",
   "name": "python",
   "nbconvert_exporter": "python",
   "pygments_lexer": "ipython3",
   "version": "3.5.5"
  }
 },
 "nbformat": 4,
 "nbformat_minor": 1
}
